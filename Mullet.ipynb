{
 "cells": [
  {
   "cell_type": "code",
   "execution_count": 22,
   "metadata": {},
   "outputs": [
    {
     "name": "stdout",
     "output_type": "stream",
     "text": [
      "65\n",
      "871505570935142822\n",
      "0x4f4bA882c51B619aEe862cEE4da4c23F95C2fF64\n",
      "{'value': 0, 'gas': 127885, 'type': '0x2', 'nonce': 65, 'from': '0x4f4bA882c51B619aEe862cEE4da4c23F95C2fF64', 'maxFeePerGas': 250000000000, 'maxPriorityFeePerGas': 3000000000, 'chainId': 5, 'to': '0xc2b049E0D96e9f21e6710f1CF30B35ca2A94253C', 'data': '0xd204c45e0000000000000000000000004f4ba882c51b619aee862cee4da4c23f95c2ff640000000000000000000000000000000000000000000000000000000000000040000000000000000000000000000000000000000000000000000000000000003b6261666b72656961616f64786a37736e363774703364357666796162706e64726b347169687a69333777703434703471776664656c6277797470790000000000'}\n",
      "b'\\x880mpQ#\\xf1\\xf1\\x13@\\xa2\\x9b\\x1e\\xd7\\xab\\x07\\x82X\\xae\\xd2\\xaeF\\xc0S<\\xda\\xcfS\\x8f:1R'\n"
     ]
    },
    {
     "data": {
      "text/plain": [
       "HexBytes('0x88306d705123f1f11340a29b1ed7ab078258aed2ae46c0533cdacf538f3a3152')"
      ]
     },
     "execution_count": 22,
     "metadata": {},
     "output_type": "execute_result"
    }
   ],
   "source": [
    "from web3 import Web3\n",
    "from dotenv import load_dotenv\n",
    "import os\n",
    "\n",
    "from_account = '0x4f4bA882c51B619aEe862cEE4da4c23F95C2fF64'\n",
    "load_dotenv()\n",
    "private_key = os.environ['PRIVATE_KEY']\n",
    "\n",
    "\n",
    "with open(\"build/contracts/Mullet.json\") as f:\n",
    "    info_json = json.load(f)\n",
    "    abi = info_json[\"abi\"]\n",
    "\n",
    "alchemy_url = \"https://eth-goerli.g.alchemy.com/v2/ddiJIm6VXwGqdA3_4Y4xqV-yA8JUpfsZ\"\n",
    "web3 = Web3(Web3.HTTPProvider(alchemy_url))\n",
    "nonce = web3.eth.getTransactionCount(from_account)\n",
    "\n",
    "address = \"0xc2b049E0D96e9f21e6710f1CF30B35ca2A94253C\"\n",
    "nft_host = w3.eth.contract(address=address, abi=abi)\n",
    "\n",
    "txn = nft_host.functions.safeMint(from_account,'bafkreiaaodxj7sn67tp3d5vfyabpndrk4qihzi37wp44p4qwfdelbwytpy' ).build_transaction({\n",
    "          'type': '0x2',\n",
    "          'nonce': nonce,\n",
    "          'from': from_account,\n",
    "          'maxFeePerGas': web3.toWei('250', 'gwei'),\n",
    "          'maxPriorityFeePerGas': web3.toWei('3', 'gwei'),\n",
    "          'chainId': 5\n",
    "        })\n",
    "print(txn)\n",
    "\n",
    "signed_txn = w3.eth.account.sign_transaction(txn, private_key=private_key)\n",
    "print(signed_txn.hash)\n",
    "w3.eth.send_raw_transaction(signed_txn.rawTransaction)  \n",
    "\n"
   ]
  }
 ],
 "metadata": {
  "kernelspec": {
   "display_name": "Python 3.9.6 64-bit",
   "language": "python",
   "name": "python3"
  },
  "language_info": {
   "codemirror_mode": {
    "name": "ipython",
    "version": 3
   },
   "file_extension": ".py",
   "mimetype": "text/x-python",
   "name": "python",
   "nbconvert_exporter": "python",
   "pygments_lexer": "ipython3",
   "version": "3.9.6 (default, Jun 29 2021, 04:45:03) \n[Clang 11.0.0 (clang-1100.0.33.17)]"
  },
  "orig_nbformat": 4,
  "vscode": {
   "interpreter": {
    "hash": "aee8b7b246df8f9039afb4144a1f6fd8d2ca17a180786b69acc140d282b71a49"
   }
  }
 },
 "nbformat": 4,
 "nbformat_minor": 2
}
